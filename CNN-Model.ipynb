{
 "cells": [
  {
   "cell_type": "markdown",
   "metadata": {
    "id": "zb7yyaPORH61"
   },
   "source": [
    "### Imports"
   ]
  },
  {
   "cell_type": "code",
   "execution_count": null,
   "metadata": {
    "_cell_guid": "b1076dfc-b9ad-4769-8c92-a6c4dae69d19",
    "_uuid": "8f2839f25d086af736a60e9eeb907d3b93b6e0e5",
    "id": "t4G7UWpmIHo0",
    "outputId": "c83cf3f6-6910-479c-e71b-e2725ae34c73"
   },
   "outputs": [],
   "source": [
    "import pandas as pd \n",
    "import os\n",
    "%matplotlib inline\n",
    "\n",
    "from os import listdir, path\n",
    "from utils import *\n",
    "from tensorflow.keras.layers import Conv2D,Input,ZeroPadding2D,BatchNormalization,Flatten,Activation,Dense,MaxPooling2D, Dropout\n",
    "from tensorflow.keras.models import Sequential\n",
    "from tensorflow.keras import optimizers, losses\n",
    "from sklearn.metrics import classification_report"
   ]
  },
  {
   "cell_type": "markdown",
   "metadata": {
    "id": "6y8Bp9dhRcpf"
   },
   "source": [
    "### Loading Images"
   ]
  },
  {
   "cell_type": "code",
   "execution_count": null,
   "metadata": {
    "_cell_guid": "79c7e3d0-c299-4dcb-8224-4455121ee9b0",
    "_uuid": "d629ff2d2480ee46fbb7e2d37f6b5fab8052498a",
    "id": "TvMl0c2uIHpD"
   },
   "outputs": [],
   "source": [
    "image_dir=\"/home/pedrod33/Desktop/MRSI/ano1s2/AA/Brain_Tumor_Detection/archive/brain_tumor_dataset/\""
   ]
  },
  {
   "cell_type": "markdown",
   "metadata": {
    "id": "THvVSvz0SORm"
   },
   "source": [
    "### Making directory for augmented images"
   ]
  },
  {
   "cell_type": "markdown",
   "metadata": {},
   "source": [
    "**A directory is formed using os.makedirs() function for augmented images(yes/ no). Note- custom directory is obtained in outputs folder.**"
   ]
  },
  {
   "cell_type": "code",
   "execution_count": null,
   "metadata": {},
   "outputs": [],
   "source": [
    "if not path.exists('output/kaggle/working/augmented-images'):\n",
    "    os.makedirs('output/kaggle/working/augmented-images')\n",
    "if not path.exists('output/kaggle/working/augmented-images/yes'):\n",
    "    os.makedirs('output/kaggle/working/augmented-images/yes')\n",
    "if not path.exists('output/kaggle/working/augmented-images/no'):\n",
    "    os.makedirs('output/kaggle/working/augmented-images/no')"
   ]
  },
  {
   "cell_type": "markdown",
   "metadata": {},
   "source": [
    "## Augmentation of images \n",
    "**About the data:\n",
    "The dataset contains 2 folders: yes and no which contains 253 Brain MRI Images. The folder yes contains 155 Brain MRI Images that are tumorous andno contains 98 Brain MRI Images that are non-tumorous.**"
   ]
  },
  {
   "cell_type": "code",
   "execution_count": null,
   "metadata": {},
   "outputs": [],
   "source": [
    "IMG_SIZE = 224\n",
    "X, y = read_images()\n",
    "X = crop_images(X)\n",
    "X = resize_and_rescale(X, IMG_SIZE)\n",
    "X_train, y_train, X_val, y_val, X_test, y_test = split_and_shuffle(X, y)\n",
    "#X_train, y_train = augment_data(X_train,y_train, IMG_SIZE=IMG_SIZE)\n",
    "\n",
    "X_train = np.array([[[[x,x,x]  for x in x2] for x2 in x1] for x1 in X_train])\n",
    "X_val = np.array([[[[x,x,x]  for x in x2] for x2 in x1] for x1 in X_val])\n",
    "X_test = np.array([[[[x,x,x]  for x in x2] for x2 in x1] for x1 in X_test])"
   ]
  },
  {
   "cell_type": "markdown",
   "metadata": {
    "id": "eCed8eg9TOl4"
   },
   "source": [
    "## Visualization of data"
   ]
  },
  {
   "cell_type": "code",
   "execution_count": null,
   "metadata": {
    "id": "snuuGQ3SIHsy",
    "outputId": "580bd81d-6cb3-43a0-b2ce-984953d11a11"
   },
   "outputs": [],
   "source": [
    "print (\"number of training examples = \" + str(X_train.shape[0]))\n",
    "print (\"number of test examples = \" + str(X_test.shape[0]))"
   ]
  },
  {
   "cell_type": "code",
   "execution_count": null,
   "metadata": {},
   "outputs": [],
   "source": [
    "def build_model(input_shape, learn_rate=0.001):\n",
    "    model = Sequential()\n",
    "    model.add(Input(input_shape)) \n",
    "    model.add(Activation('leaky_relu')) \n",
    "    \n",
    "    model.add(Conv2D(filters=64, kernel_size=4, input_shape=input_shape, strides = (1, 1)))\n",
    "    model.add(MaxPooling2D((4,4), strides = (4,4),padding=\"valid\"))\n",
    "    model.add(Dropout(.3))\n",
    "    \n",
    "    model.add(Conv2D(filters=128, kernel_size=4, input_shape=input_shape, strides = (1, 1)))\n",
    "    model.add(MaxPooling2D((4,4), strides = (4,4),padding=\"valid\"))\n",
    "\n",
    "    model.add(Flatten())\n",
    "    model.add(Dense(units=512, activation=\"relu\"))\n",
    "\n",
    "    model.add(Dense(2, activation='sigmoid'))\n",
    "    model.compile(optimizer=optimizers.Adam(learning_rate=learn_rate), loss=losses.SparseCategoricalCrossentropy(from_logits=False), metrics=['accuracy'])\n",
    "\n",
    "    \n",
    "    \n",
    "    return model"
   ]
  },
  {
   "cell_type": "code",
   "execution_count": null,
   "metadata": {
    "id": "swsrAidNIHtR",
    "outputId": "5db40543-703b-4e69-ec55-56ae8795b3ec"
   },
   "outputs": [],
   "source": [
    "IMG_SHAPE = (IMG_SIZE, IMG_SIZE,3)\n",
    "model=build_model(IMG_SHAPE,0.001)\n",
    "model.summary()"
   ]
  },
  {
   "cell_type": "code",
   "execution_count": null,
   "metadata": {
    "id": "oM8xYsVLIHtf",
    "outputId": "20f2d4a9-3ef9-46b7-b5ea-e638b7da96d2",
    "scrolled": true
   },
   "outputs": [],
   "source": [
    "results = model.fit(x=X_train, y=y_train, batch_size=32, epochs=22, validation_data=(X_val, y_val))"
   ]
  },
  {
   "cell_type": "markdown",
   "metadata": {
    "id": "jzKEvKyfTgG7"
   },
   "source": [
    "### Plotting of accuracy"
   ]
  },
  {
   "cell_type": "markdown",
   "metadata": {
    "id": "fi9lvx6WIHuR",
    "outputId": "5e8a3441-85cb-44d7-c158-45989aa4a00b"
   },
   "source": [
    "### model.evaluate(X_test, y)"
   ]
  },
  {
   "cell_type": "code",
   "execution_count": null,
   "metadata": {
    "scrolled": false
   },
   "outputs": [],
   "source": [
    "model.evaluate(X_test, y_test)"
   ]
  },
  {
   "cell_type": "code",
   "execution_count": null,
   "metadata": {},
   "outputs": [],
   "source": [
    "plot_accuracy_comparison([results.history[\"accuracy\"], results.history[\"val_accuracy\"]],\n",
    "                        \"Training/Validation Accuracy Comparison\",\n",
    "                        [\"Training Accuracy\", \"Validation Accuracy\"])"
   ]
  },
  {
   "cell_type": "code",
   "execution_count": null,
   "metadata": {
    "scrolled": true
   },
   "outputs": [],
   "source": [
    "plot_accuracy_comparison([results.history[\"loss\"], results.history[\"val_loss\"]],\n",
    "                        \"Training/Validation Loss Comparison\",\n",
    "                        [\"Training Accuracy\", \"Validation Accuracy\"])"
   ]
  },
  {
   "cell_type": "code",
   "execution_count": null,
   "metadata": {},
   "outputs": [],
   "source": [
    "y_pred=np.argmax(model.predict(X_test), axis=-1)\n",
    "plot_confusion_matrix(y_test, y_pred)\n",
    "print(classification_report(y_pred,y_test))"
   ]
  },
  {
   "cell_type": "markdown",
   "metadata": {},
   "source": [
    "### Hyper-Parameter Selection"
   ]
  },
  {
   "cell_type": "code",
   "execution_count": null,
   "metadata": {},
   "outputs": [],
   "source": [
    "learning_rates=[0.1, 0.01, 0.001, 0.0001, 0.00001]\n",
    "epochs = 22\n",
    "acc = []\n",
    "loss = []\n",
    "test = []\n",
    "for lr in learning_rates:\n",
    "    model = build_model(IMG_SHAPE, learn_rate=lr)\n",
    "    results = model.fit(x=X_train, y=y_train, batch_size=32, epochs=22, validation_data=(X_val, y_val))\n",
    "    print(\"Test with dataset and learning rate \",lr,\":\")\n",
    "    model.evaluate(X_test, y_test)\n",
    "    print()\n",
    "    acc.append(results.history[\"val_accuracy\"])\n",
    "    loss.append(results.history[\"val_loss\"])"
   ]
  },
  {
   "cell_type": "code",
   "execution_count": null,
   "metadata": {},
   "outputs": [],
   "source": [
    "plot_accuracy_comparison(acc, \"Learning Rate Comparison (Validation Accuracy)\", learning_rates)"
   ]
  },
  {
   "cell_type": "code",
   "execution_count": null,
   "metadata": {
    "scrolled": true
   },
   "outputs": [],
   "source": [
    "plot_loss_comparison(loss, \"Learning Rate Comparison (Validation Loss)\", learning_rates)"
   ]
  }
 ],
 "metadata": {
  "kernelspec": {
   "display_name": "Python 3 (ipykernel)",
   "language": "python",
   "name": "python3"
  },
  "language_info": {
   "codemirror_mode": {
    "name": "ipython",
    "version": 3
   },
   "file_extension": ".py",
   "mimetype": "text/x-python",
   "name": "python",
   "nbconvert_exporter": "python",
   "pygments_lexer": "ipython3",
   "version": "3.8.10"
  }
 },
 "nbformat": 4,
 "nbformat_minor": 4
}
