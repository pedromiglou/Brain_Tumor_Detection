{
 "cells": [
  {
   "cell_type": "markdown",
   "id": "fa03c4d1",
   "metadata": {},
   "source": [
    "### Imports"
   ]
  },
  {
   "cell_type": "code",
   "execution_count": 1,
   "id": "dd736b59",
   "metadata": {},
   "outputs": [],
   "source": [
    "import tensorflow as tf\n",
    "from tensorflow.keras import models, layers\n",
    "import matplotlib.pyplot as plt\n",
    "import os\n",
    "import pathlib\n",
    "from utils import *\n",
    "import numpy as np\n",
    "import cv2\n",
    "from sklearn.utils import shuffle #shuffling the data improves the model"
   ]
  },
  {
   "cell_type": "code",
   "execution_count": 2,
   "id": "18cef97a",
   "metadata": {
    "scrolled": true
   },
   "outputs": [
    {
     "name": "stderr",
     "output_type": "stream",
     "text": [
      "2022-04-21 11:12:21.731049: I tensorflow/stream_executor/cuda/cuda_gpu_executor.cc:936] successful NUMA node read from SysFS had negative value (-1), but there must be at least one NUMA node, so returning NUMA node zero\n",
      "2022-04-21 11:12:22.657317: W tensorflow/stream_executor/platform/default/dso_loader.cc:64] Could not load dynamic library 'libcudnn.so.8'; dlerror: libcudnn.so.8: cannot open shared object file: No such file or directory; LD_LIBRARY_PATH: /home/miglou/.local/lib/python3.8/site-packages/cv2/../../lib64:\n",
      "2022-04-21 11:12:22.657339: W tensorflow/core/common_runtime/gpu/gpu_device.cc:1850] Cannot dlopen some GPU libraries. Please make sure the missing libraries mentioned above are installed properly if you would like to use GPU. Follow the guide at https://www.tensorflow.org/install/gpu for how to download and setup the required libraries for your platform.\n",
      "Skipping registering GPU devices...\n",
      "2022-04-21 11:12:22.694459: I tensorflow/core/platform/cpu_feature_guard.cc:151] This TensorFlow binary is optimized with oneAPI Deep Neural Network Library (oneDNN) to use the following CPU instructions in performance-critical operations:  AVX2 FMA\n",
      "To enable them in other operations, rebuild TensorFlow with the appropriate compiler flags.\n"
     ]
    }
   ],
   "source": [
    "X, y = read_images()\n",
    "X = crop_images(X)\n",
    "X = resize_and_rescale(X)\n",
    "X_train, y_train, X_test, y_test = split_data(X, y)\n",
    "X_train, y_train = augment_data(X_train,y_train)\n",
    "\n",
    "X_train = np.array([[[[x,x,x]  for x in x2] for x2 in x1] for x1 in X_train])\n",
    "X_test = np.array([[[[x,x,x]  for x in x2] for x2 in x1] for x1 in X_test])\n",
    "\n",
    "X_train, y_train = shuffle(X_train, y_train)\n",
    "X_test, y_test = shuffle(X_test, y_test)"
   ]
  },
  {
   "cell_type": "code",
   "execution_count": 3,
   "id": "b3bfdba9",
   "metadata": {},
   "outputs": [
    {
     "name": "stdout",
     "output_type": "stream",
     "text": [
      "Model: \"model\"\n",
      "_________________________________________________________________\n",
      " Layer (type)                Output Shape              Param #   \n",
      "=================================================================\n",
      " input_2 (InputLayer)        [(None, 224, 224, 3)]     0         \n",
      "                                                                 \n",
      " tf.__operators__.getitem (S  (None, 224, 224, 3)      0         \n",
      " licingOpLambda)                                                 \n",
      "                                                                 \n",
      " tf.nn.bias_add (TFOpLambda)  (None, 224, 224, 3)      0         \n",
      "                                                                 \n",
      " vgg16 (Functional)          (None, None, None, 512)   14714688  \n",
      "                                                                 \n",
      " global_average_pooling2d (G  (None, 512)              0         \n",
      " lobalAveragePooling2D)                                          \n",
      "                                                                 \n",
      " dropout (Dropout)           (None, 512)               0         \n",
      "                                                                 \n",
      " dense (Dense)               (None, 4096)              2101248   \n",
      "                                                                 \n",
      " dense_1 (Dense)             (None, 4096)              16781312  \n",
      "                                                                 \n",
      " dense_2 (Dense)             (None, 2)                 8194      \n",
      "                                                                 \n",
      "=================================================================\n",
      "Total params: 33,605,442\n",
      "Trainable params: 18,890,754\n",
      "Non-trainable params: 14,714,688\n",
      "_________________________________________________________________\n"
     ]
    }
   ],
   "source": [
    "vgg16 = tf.keras.applications.VGG16(\n",
    "    include_top=False,\n",
    "    weights=\"imagenet\")\n",
    "\n",
    "vgg16.trainable = False\n",
    "\n",
    "inputs = tf.keras.Input(shape=(224, 224,3))\n",
    "x = tf.keras.applications.vgg16.preprocess_input(\n",
    "    inputs, data_format=None)\n",
    "\n",
    "x = vgg16(x, training=False)\n",
    "x = tf.keras.layers.GlobalAveragePooling2D()(x)\n",
    "x = tf.keras.layers.Dropout(0.2)(x)\n",
    "x = tf.keras.layers.Dense(4096, activation=\"relu\")(x)\n",
    "x = tf.keras.layers.Dense(4096, activation=\"relu\")(x)\n",
    "outputs = tf.keras.layers.Dense(2, activation=\"sigmoid\")(x)\n",
    "model = tf.keras.Model(inputs, outputs)\n",
    "model.summary()"
   ]
  },
  {
   "cell_type": "code",
   "execution_count": 4,
   "id": "59664cb3",
   "metadata": {},
   "outputs": [
    {
     "name": "stdout",
     "output_type": "stream",
     "text": [
      "Epoch 1/10\n",
      "13/13 [==============================] - 52s 4s/step - loss: 11.6053 - accuracy: 0.5965 - val_loss: 0.7865 - val_accuracy: 0.7451\n",
      "Epoch 2/10\n",
      "13/13 [==============================] - 48s 4s/step - loss: 0.4959 - accuracy: 0.7649 - val_loss: 0.4694 - val_accuracy: 0.7647\n",
      "Epoch 3/10\n",
      "13/13 [==============================] - 52s 4s/step - loss: 0.3438 - accuracy: 0.8515 - val_loss: 0.4409 - val_accuracy: 0.8039\n",
      "Epoch 4/10\n",
      "13/13 [==============================] - 59s 5s/step - loss: 0.2643 - accuracy: 0.9059 - val_loss: 0.3890 - val_accuracy: 0.8431\n",
      "Epoch 5/10\n",
      "13/13 [==============================] - 59s 5s/step - loss: 0.1909 - accuracy: 0.9233 - val_loss: 0.4191 - val_accuracy: 0.9412\n",
      "Epoch 6/10\n",
      "13/13 [==============================] - 59s 5s/step - loss: 0.1779 - accuracy: 0.9233 - val_loss: 0.3979 - val_accuracy: 0.9020\n",
      "Epoch 7/10\n",
      "13/13 [==============================] - 60s 5s/step - loss: 0.1664 - accuracy: 0.9381 - val_loss: 0.4782 - val_accuracy: 0.9020\n",
      "Epoch 8/10\n",
      "13/13 [==============================] - 60s 5s/step - loss: 0.0828 - accuracy: 0.9703 - val_loss: 0.4603 - val_accuracy: 0.9020\n",
      "Epoch 9/10\n",
      "13/13 [==============================] - 60s 5s/step - loss: 0.0986 - accuracy: 0.9554 - val_loss: 0.4949 - val_accuracy: 0.9020\n",
      "Epoch 10/10\n",
      "13/13 [==============================] - 60s 5s/step - loss: 0.2417 - accuracy: 0.8985 - val_loss: 0.4457 - val_accuracy: 0.8627\n"
     ]
    }
   ],
   "source": [
    "from tensorflow.keras.optimizers import Adam\n",
    "opt = Adam(learning_rate=0.001)\n",
    "model.compile(optimizer=opt, loss=tf.keras.losses.SparseCategoricalCrossentropy(from_logits=False), metrics=['accuracy'])\n",
    "\n",
    "history = model.fit(X_train, y_train,\n",
    "                    epochs=10,\n",
    "                    validation_data=(X_test, y_test))"
   ]
  },
  {
   "cell_type": "code",
   "execution_count": 5,
   "id": "4c9770c5",
   "metadata": {},
   "outputs": [
    {
     "name": "stdout",
     "output_type": "stream",
     "text": [
      "2/2 [==============================] - 7s 2s/step - loss: 0.4457 - accuracy: 0.8627\n"
     ]
    },
    {
     "data": {
      "text/plain": [
       "[0.4457293748855591, 0.8627451062202454]"
      ]
     },
     "execution_count": 5,
     "metadata": {},
     "output_type": "execute_result"
    }
   ],
   "source": [
    "model.evaluate(X_test, y_test)"
   ]
  }
 ],
 "metadata": {
  "kernelspec": {
   "display_name": "Python 3 (ipykernel)",
   "language": "python",
   "name": "python3"
  },
  "language_info": {
   "codemirror_mode": {
    "name": "ipython",
    "version": 3
   },
   "file_extension": ".py",
   "mimetype": "text/x-python",
   "name": "python",
   "nbconvert_exporter": "python",
   "pygments_lexer": "ipython3",
   "version": "3.8.10"
  }
 },
 "nbformat": 4,
 "nbformat_minor": 5
}
