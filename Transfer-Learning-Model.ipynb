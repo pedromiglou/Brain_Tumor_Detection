{
 "cells": [
  {
   "cell_type": "markdown",
   "id": "fa03c4d1",
   "metadata": {},
   "source": [
    "### Imports"
   ]
  },
  {
   "cell_type": "code",
   "execution_count": 1,
   "id": "dd736b59",
   "metadata": {},
   "outputs": [],
   "source": [
    "from utils import *\n",
    "import cv2\n",
    "import numpy as np\n",
    "import tf.keras.applications.VGG16 as VGG16\n",
    "from tensorflow.keras import models, layers, optimizers, losses\n",
    "from sklearn.model_selection import KFold\n",
    "from sklearn.metrics import classification_report"
   ]
  },
  {
   "cell_type": "markdown",
   "id": "27ecb4ae",
   "metadata": {},
   "source": [
    "### Read/Preprocess Data"
   ]
  },
  {
   "cell_type": "code",
   "execution_count": 2,
   "id": "18cef97a",
   "metadata": {
    "scrolled": true
   },
   "outputs": [],
   "source": [
    "X, y = read_images()\n",
    "X = resize_and_rescale(X, rescale=False)\n",
    "X_train, y_train, X_test, y_test = split_and_shuffle(X, y)\n",
    "\n",
    "# convert to rgb images\n",
    "X_train = np.array([[[[x,x,x]  for x in x2] for x2 in x1] for x1 in X_train])\n",
    "X_test = np.array([[[[x,x,x]  for x in x2] for x2 in x1] for x1 in X_test])"
   ]
  },
  {
   "cell_type": "markdown",
   "id": "f662f002",
   "metadata": {},
   "source": [
    "### Model"
   ]
  },
  {
   "cell_type": "code",
   "execution_count": 3,
   "id": "b3bfdba9",
   "metadata": {},
   "outputs": [],
   "source": [
    "def vgg16_model():\n",
    "    vgg16 = VGG16(include_top=False, weights=\"imagenet\", input_shape = (150,150, 3))\n",
    "\n",
    "    # prevent training of VGG16\n",
    "    vgg16.trainable = False\n",
    "\n",
    "    model = models.Sequential()\n",
    "    model.add(vgg16)\n",
    "    model.add(layers.GlobalAveragePooling2D())\n",
    "    model.add(layers.Dropout(0.2))\n",
    "    model.add(layers.Dense(4096, activation=\"relu\"))\n",
    "    model.add(layers.Dense(4096, activation=\"relu\"))\n",
    "    model.add(layers.Dense(2, activation=\"sigmoid\"))\n",
    "    model.compile(optimizer=optimizers.Adam(learning_rate=0.001),\n",
    "                  loss=losses.SparseCategoricalCrossentropy(from_logits=False),\n",
    "                  metrics=['accuracy'])\n",
    "    return model"
   ]
  },
  {
   "cell_type": "code",
   "execution_count": 4,
   "id": "59664cb3",
   "metadata": {},
   "outputs": [
    {
     "name": "stderr",
     "output_type": "stream",
     "text": [
      "2022-04-30 17:30:21.760427: I tensorflow/stream_executor/cuda/cuda_gpu_executor.cc:936] successful NUMA node read from SysFS had negative value (-1), but there must be at least one NUMA node, so returning NUMA node zero\n",
      "2022-04-30 17:30:21.804502: I tensorflow/stream_executor/cuda/cuda_gpu_executor.cc:936] successful NUMA node read from SysFS had negative value (-1), but there must be at least one NUMA node, so returning NUMA node zero\n",
      "2022-04-30 17:30:21.804692: I tensorflow/stream_executor/cuda/cuda_gpu_executor.cc:936] successful NUMA node read from SysFS had negative value (-1), but there must be at least one NUMA node, so returning NUMA node zero\n",
      "2022-04-30 17:30:21.806294: I tensorflow/core/platform/cpu_feature_guard.cc:151] This TensorFlow binary is optimized with oneAPI Deep Neural Network Library (oneDNN) to use the following CPU instructions in performance-critical operations:  AVX2 FMA\n",
      "To enable them in other operations, rebuild TensorFlow with the appropriate compiler flags.\n",
      "2022-04-30 17:30:21.806668: I tensorflow/stream_executor/cuda/cuda_gpu_executor.cc:936] successful NUMA node read from SysFS had negative value (-1), but there must be at least one NUMA node, so returning NUMA node zero\n",
      "2022-04-30 17:30:21.806876: I tensorflow/stream_executor/cuda/cuda_gpu_executor.cc:936] successful NUMA node read from SysFS had negative value (-1), but there must be at least one NUMA node, so returning NUMA node zero\n",
      "2022-04-30 17:30:21.807025: I tensorflow/stream_executor/cuda/cuda_gpu_executor.cc:936] successful NUMA node read from SysFS had negative value (-1), but there must be at least one NUMA node, so returning NUMA node zero\n",
      "2022-04-30 17:30:22.259444: I tensorflow/stream_executor/cuda/cuda_gpu_executor.cc:936] successful NUMA node read from SysFS had negative value (-1), but there must be at least one NUMA node, so returning NUMA node zero\n",
      "2022-04-30 17:30:22.259674: I tensorflow/stream_executor/cuda/cuda_gpu_executor.cc:936] successful NUMA node read from SysFS had negative value (-1), but there must be at least one NUMA node, so returning NUMA node zero\n",
      "2022-04-30 17:30:22.259835: I tensorflow/stream_executor/cuda/cuda_gpu_executor.cc:936] successful NUMA node read from SysFS had negative value (-1), but there must be at least one NUMA node, so returning NUMA node zero\n",
      "2022-04-30 17:30:22.259967: I tensorflow/core/common_runtime/gpu/gpu_device.cc:1525] Created device /job:localhost/replica:0/task:0/device:GPU:0 with 2946 MB memory:  -> device: 0, name: NVIDIA GeForce GTX 960M, pci bus id: 0000:01:00.0, compute capability: 5.0\n"
     ]
    },
    {
     "name": "stdout",
     "output_type": "stream",
     "text": [
      "Model: \"sequential\"\n",
      "_________________________________________________________________\n",
      " Layer (type)                Output Shape              Param #   \n",
      "=================================================================\n",
      " vgg16 (Functional)          (None, 4, 4, 512)         14714688  \n",
      "                                                                 \n",
      " global_average_pooling2d (G  (None, 512)              0         \n",
      " lobalAveragePooling2D)                                          \n",
      "                                                                 \n",
      " dropout (Dropout)           (None, 512)               0         \n",
      "                                                                 \n",
      " dense (Dense)               (None, 4096)              2101248   \n",
      "                                                                 \n",
      " dense_1 (Dense)             (None, 4096)              16781312  \n",
      "                                                                 \n",
      " dense_2 (Dense)             (None, 2)                 8194      \n",
      "                                                                 \n",
      "=================================================================\n",
      "Total params: 33,605,442\n",
      "Trainable params: 18,890,754\n",
      "Non-trainable params: 14,714,688\n",
      "_________________________________________________________________\n"
     ]
    }
   ],
   "source": [
    "model = vgg16_model()\n",
    "model.summary()"
   ]
  },
  {
   "cell_type": "markdown",
   "id": "a43dda25",
   "metadata": {},
   "source": [
    "### Cross Validation and Testing"
   ]
  },
  {
   "cell_type": "code",
   "execution_count": 5,
   "id": "8c89b91a",
   "metadata": {},
   "outputs": [],
   "source": [
    "def cross_validation(X, y, epochs=10):\n",
    "    results = []\n",
    "    \n",
    "    # split into 4 folds and fit 4 times\n",
    "    kf = KFold(n_splits=4)\n",
    "    for train_index, test_index in kf.split(X):\n",
    "        model = vgg16_model()\n",
    "        res = model.fit(X[train_index],y[train_index],validation_data=(X[test_index],y[test_index]),epochs=epochs)\n",
    "        results.append(res)\n",
    "    \n",
    "    # obtain average results throughout the epochs\n",
    "    history = dict()\n",
    "    history[\"accuracy\"] = []\n",
    "    history[\"val_accuracy\"] = []\n",
    "    history[\"loss\"] = []\n",
    "    history[\"val_loss\"] = []\n",
    "    \n",
    "    for i in range(epochs):\n",
    "        history[\"accuracy\"].append(sum([res.history['accuracy'][i] for res in results])/len(results))\n",
    "        history[\"val_accuracy\"].append(sum([res.history['val_accuracy'][i] for res in results])/len(results))\n",
    "        history[\"loss\"].append(sum([res.history['loss'][i] for res in results])/len(results))\n",
    "        history[\"val_loss\"].append(sum([res.history['val_loss'][i] for res in results])/len(results))\n",
    "\n",
    "    return history"
   ]
  },
  {
   "cell_type": "code",
   "execution_count": 6,
   "id": "04a12072",
   "metadata": {},
   "outputs": [
    {
     "name": "stdout",
     "output_type": "stream",
     "text": [
      "Epoch 1/10\n"
     ]
    },
    {
     "name": "stderr",
     "output_type": "stream",
     "text": [
      "2022-04-30 17:30:24.346400: I tensorflow/stream_executor/cuda/cuda_dnn.cc:368] Loaded cuDNN version 8400\n",
      "2022-04-30 17:30:24.778291: I tensorflow/core/platform/default/subprocess.cc:304] Start cannot spawn child process: No such file or directory\n",
      "2022-04-30 17:30:25.255250: W tensorflow/core/common_runtime/bfc_allocator.cc:275] Allocator (GPU_0_bfc) ran out of memory trying to allocate 3.04GiB with freed_by_count=0. The caller indicates that this is not a failure, but may mean that there could be performance gains if more memory were available.\n",
      "2022-04-30 17:30:25.937805: W tensorflow/core/common_runtime/bfc_allocator.cc:275] Allocator (GPU_0_bfc) ran out of memory trying to allocate 2.55GiB with freed_by_count=0. The caller indicates that this is not a failure, but may mean that there could be performance gains if more memory were available.\n",
      "2022-04-30 17:30:26.438911: W tensorflow/core/common_runtime/bfc_allocator.cc:275] Allocator (GPU_0_bfc) ran out of memory trying to allocate 2.34GiB with freed_by_count=0. The caller indicates that this is not a failure, but may mean that there could be performance gains if more memory were available.\n"
     ]
    },
    {
     "name": "stdout",
     "output_type": "stream",
     "text": [
      "4/5 [=======================>......] - ETA: 0s - loss: 41.6942 - accuracy: 0.5703"
     ]
    },
    {
     "name": "stderr",
     "output_type": "stream",
     "text": [
      "2022-04-30 17:30:28.643060: W tensorflow/core/common_runtime/bfc_allocator.cc:275] Allocator (GPU_0_bfc) ran out of memory trying to allocate 2.75GiB with freed_by_count=0. The caller indicates that this is not a failure, but may mean that there could be performance gains if more memory were available.\n",
      "2022-04-30 17:30:29.247035: W tensorflow/core/common_runtime/bfc_allocator.cc:275] Allocator (GPU_0_bfc) ran out of memory trying to allocate 2.41GiB with freed_by_count=0. The caller indicates that this is not a failure, but may mean that there could be performance gains if more memory were available.\n"
     ]
    },
    {
     "name": "stdout",
     "output_type": "stream",
     "text": [
      "\b\b\b\b\b\b\b\b\b\b\b\b\b\b\b\b\b\b\b\b\b\b\b\b\b\b\b\b\b\b\b\b\b\b\b\b\b\b\b\b\b\b\b\b\b\b\b\b\b\b\b\b\b\b\b\b\b\b\b\b\b\b\b\b\b\b\b\b\b\b\b\b\b\b\b\b\b\b\b\b\b\r",
      "5/5 [==============================] - ETA: 0s - loss: 37.0666 - accuracy: 0.5166"
     ]
    },
    {
     "name": "stderr",
     "output_type": "stream",
     "text": [
      "2022-04-30 17:30:31.416495: W tensorflow/core/common_runtime/bfc_allocator.cc:275] Allocator (GPU_0_bfc) ran out of memory trying to allocate 2.63GiB with freed_by_count=0. The caller indicates that this is not a failure, but may mean that there could be performance gains if more memory were available.\n",
      "2022-04-30 17:30:31.902865: W tensorflow/core/common_runtime/bfc_allocator.cc:275] Allocator (GPU_0_bfc) ran out of memory trying to allocate 2.35GiB with freed_by_count=0. The caller indicates that this is not a failure, but may mean that there could be performance gains if more memory were available.\n"
     ]
    },
    {
     "name": "stdout",
     "output_type": "stream",
     "text": [
      "5/5 [==============================] - 10s 1s/step - loss: 37.0666 - accuracy: 0.5166 - val_loss: 5.3438 - val_accuracy: 0.4510\n",
      "Epoch 2/10\n",
      "5/5 [==============================] - 2s 420ms/step - loss: 3.0876 - accuracy: 0.5762 - val_loss: 1.8168 - val_accuracy: 0.6471\n",
      "Epoch 3/10\n",
      "5/5 [==============================] - 2s 419ms/step - loss: 1.1180 - accuracy: 0.7947 - val_loss: 0.3636 - val_accuracy: 0.8824\n",
      "Epoch 4/10\n",
      "5/5 [==============================] - 2s 434ms/step - loss: 0.7966 - accuracy: 0.7881 - val_loss: 0.4124 - val_accuracy: 0.8235\n",
      "Epoch 5/10\n",
      "5/5 [==============================] - 2s 420ms/step - loss: 0.3441 - accuracy: 0.8543 - val_loss: 0.3660 - val_accuracy: 0.7843\n",
      "Epoch 6/10\n",
      "5/5 [==============================] - 2s 419ms/step - loss: 0.2579 - accuracy: 0.8874 - val_loss: 0.4113 - val_accuracy: 0.8039\n",
      "Epoch 7/10\n",
      "5/5 [==============================] - 2s 420ms/step - loss: 0.1711 - accuracy: 0.9470 - val_loss: 0.3424 - val_accuracy: 0.8431\n",
      "Epoch 8/10\n",
      "5/5 [==============================] - 2s 450ms/step - loss: 0.1748 - accuracy: 0.9272 - val_loss: 0.3628 - val_accuracy: 0.8627\n",
      "Epoch 9/10\n",
      "5/5 [==============================] - 2s 492ms/step - loss: 0.1370 - accuracy: 0.9603 - val_loss: 0.4183 - val_accuracy: 0.8627\n",
      "Epoch 10/10\n",
      "5/5 [==============================] - 2s 447ms/step - loss: 0.0834 - accuracy: 0.9801 - val_loss: 0.3706 - val_accuracy: 0.8824\n",
      "Epoch 1/10\n",
      "5/5 [==============================] - 3s 463ms/step - loss: 45.8084 - accuracy: 0.5298 - val_loss: 3.9758 - val_accuracy: 0.2745\n",
      "Epoch 2/10\n",
      "5/5 [==============================] - 2s 414ms/step - loss: 3.7026 - accuracy: 0.4371 - val_loss: 0.4303 - val_accuracy: 0.8039\n",
      "Epoch 3/10\n",
      "5/5 [==============================] - 2s 418ms/step - loss: 0.5704 - accuracy: 0.7351 - val_loss: 0.5276 - val_accuracy: 0.7647\n",
      "Epoch 4/10\n",
      "5/5 [==============================] - 2s 414ms/step - loss: 0.5073 - accuracy: 0.7285 - val_loss: 0.4500 - val_accuracy: 0.8039\n",
      "Epoch 5/10\n",
      "5/5 [==============================] - 2s 419ms/step - loss: 0.3346 - accuracy: 0.8675 - val_loss: 0.5452 - val_accuracy: 0.7451\n",
      "Epoch 6/10\n",
      "5/5 [==============================] - 2s 416ms/step - loss: 0.2847 - accuracy: 0.9073 - val_loss: 0.3585 - val_accuracy: 0.8824\n",
      "Epoch 7/10\n",
      "5/5 [==============================] - 2s 418ms/step - loss: 0.2430 - accuracy: 0.8874 - val_loss: 0.3154 - val_accuracy: 0.9020\n",
      "Epoch 8/10\n",
      "5/5 [==============================] - 2s 418ms/step - loss: 0.2004 - accuracy: 0.9007 - val_loss: 0.3849 - val_accuracy: 0.8824\n",
      "Epoch 9/10\n",
      "5/5 [==============================] - 2s 414ms/step - loss: 0.1370 - accuracy: 0.9470 - val_loss: 0.3657 - val_accuracy: 0.8824\n",
      "Epoch 10/10\n",
      "5/5 [==============================] - 2s 417ms/step - loss: 0.0944 - accuracy: 0.9801 - val_loss: 0.4870 - val_accuracy: 0.8824\n",
      "Epoch 1/10\n",
      "4/5 [=======================>......] - ETA: 0s - loss: 50.1594 - accuracy: 0.5156"
     ]
    },
    {
     "name": "stderr",
     "output_type": "stream",
     "text": [
      "2022-04-30 17:31:14.870400: W tensorflow/core/common_runtime/bfc_allocator.cc:275] Allocator (GPU_0_bfc) ran out of memory trying to allocate 2.79GiB with freed_by_count=0. The caller indicates that this is not a failure, but may mean that there could be performance gains if more memory were available.\n",
      "2022-04-30 17:31:15.421844: W tensorflow/core/common_runtime/bfc_allocator.cc:275] Allocator (GPU_0_bfc) ran out of memory trying to allocate 2.43GiB with freed_by_count=0. The caller indicates that this is not a failure, but may mean that there could be performance gains if more memory were available.\n",
      "2022-04-30 17:31:15.838639: W tensorflow/core/common_runtime/bfc_allocator.cc:275] Allocator (GPU_0_bfc) ran out of memory trying to allocate 2.27GiB with freed_by_count=0. The caller indicates that this is not a failure, but may mean that there could be performance gains if more memory were available.\n"
     ]
    },
    {
     "name": "stdout",
     "output_type": "stream",
     "text": [
      "5/5 [==============================] - 6s 1s/step - loss: 43.2785 - accuracy: 0.5526 - val_loss: 9.9814 - val_accuracy: 0.5400\n",
      "Epoch 2/10\n",
      "5/5 [==============================] - 2s 420ms/step - loss: 5.4952 - accuracy: 0.6645 - val_loss: 0.5791 - val_accuracy: 0.7800\n",
      "Epoch 3/10\n",
      "5/5 [==============================] - 2s 419ms/step - loss: 0.5525 - accuracy: 0.7829 - val_loss: 0.9668 - val_accuracy: 0.8000\n",
      "Epoch 4/10\n",
      "5/5 [==============================] - 2s 418ms/step - loss: 0.3927 - accuracy: 0.8224 - val_loss: 0.5632 - val_accuracy: 0.7600\n",
      "Epoch 5/10\n",
      "5/5 [==============================] - 2s 420ms/step - loss: 0.2049 - accuracy: 0.9211 - val_loss: 0.8519 - val_accuracy: 0.7200\n",
      "Epoch 6/10\n",
      "5/5 [==============================] - 2s 420ms/step - loss: 0.2009 - accuracy: 0.9145 - val_loss: 0.4923 - val_accuracy: 0.7600\n",
      "Epoch 7/10\n",
      "5/5 [==============================] - 2s 418ms/step - loss: 0.2157 - accuracy: 0.9342 - val_loss: 0.7128 - val_accuracy: 0.7600\n",
      "Epoch 8/10\n",
      "5/5 [==============================] - 2s 419ms/step - loss: 0.1003 - accuracy: 0.9868 - val_loss: 0.5627 - val_accuracy: 0.8000\n",
      "Epoch 9/10\n",
      "5/5 [==============================] - 2s 416ms/step - loss: 0.0723 - accuracy: 0.9803 - val_loss: 1.3219 - val_accuracy: 0.7600\n",
      "Epoch 10/10\n",
      "5/5 [==============================] - 2s 419ms/step - loss: 0.0978 - accuracy: 0.9474 - val_loss: 0.7302 - val_accuracy: 0.8200\n",
      "Epoch 1/10\n",
      "5/5 [==============================] - 3s 476ms/step - loss: 27.9671 - accuracy: 0.5526 - val_loss: 1.4532 - val_accuracy: 0.7400\n",
      "Epoch 2/10\n",
      "5/5 [==============================] - 2s 422ms/step - loss: 1.8815 - accuracy: 0.7171 - val_loss: 0.5772 - val_accuracy: 0.8400\n",
      "Epoch 3/10\n",
      "5/5 [==============================] - 2s 420ms/step - loss: 0.8475 - accuracy: 0.8092 - val_loss: 0.6247 - val_accuracy: 0.8000\n",
      "Epoch 4/10\n",
      "5/5 [==============================] - 2s 416ms/step - loss: 0.2275 - accuracy: 0.8882 - val_loss: 0.4006 - val_accuracy: 0.8600\n",
      "Epoch 5/10\n",
      "5/5 [==============================] - 2s 422ms/step - loss: 0.2074 - accuracy: 0.9145 - val_loss: 0.3134 - val_accuracy: 0.8600\n",
      "Epoch 6/10\n",
      "5/5 [==============================] - 2s 421ms/step - loss: 0.1687 - accuracy: 0.9211 - val_loss: 0.2792 - val_accuracy: 0.8600\n",
      "Epoch 7/10\n",
      "5/5 [==============================] - 2s 421ms/step - loss: 0.1422 - accuracy: 0.9408 - val_loss: 0.2693 - val_accuracy: 0.8400\n",
      "Epoch 8/10\n",
      "5/5 [==============================] - 2s 421ms/step - loss: 0.1184 - accuracy: 0.9408 - val_loss: 0.2688 - val_accuracy: 0.9200\n",
      "Epoch 9/10\n",
      "5/5 [==============================] - 2s 417ms/step - loss: 0.0681 - accuracy: 0.9868 - val_loss: 0.2347 - val_accuracy: 0.9000\n",
      "Epoch 10/10\n",
      "5/5 [==============================] - 2s 424ms/step - loss: 0.0335 - accuracy: 1.0000 - val_loss: 0.2546 - val_accuracy: 0.8400\n"
     ]
    }
   ],
   "source": [
    "history = cross_validation(X_train, y_train)"
   ]
  },
  {
   "cell_type": "code",
   "execution_count": 7,
   "id": "9e1a16af",
   "metadata": {},
   "outputs": [
    {
     "data": {
      "image/png": "[encoded data removed]",
      "text/plain": [
       "<Figure size 720x360 with 1 Axes>"
      ]
     },
     "metadata": {
      "needs_background": "light"
     },
     "output_type": "display_data"
    }
   ],
   "source": [
    "plot_accuracy_comparison(history[\"accuracy\"], history[\"val_accuracy\"])"
   ]
  },
  {
   "cell_type": "code",
   "execution_count": 8,
   "id": "8ea19f04",
   "metadata": {},
   "outputs": [
    {
     "data": {
      "image/png": "[encoded data removed]",
      "text/plain": [
       "<Figure size 720x360 with 1 Axes>"
      ]
     },
     "metadata": {
      "needs_background": "light"
     },
     "output_type": "display_data"
    }
   ],
   "source": [
    "plot_loss_comparison(history[\"loss\"], history[\"val_loss\"])"
   ]
  },
  {
   "cell_type": "code",
   "execution_count": 9,
   "id": "14993e97",
   "metadata": {},
   "outputs": [
    {
     "name": "stdout",
     "output_type": "stream",
     "text": [
      "Epoch 1/10\n",
      "7/7 [==============================] - 4s 457ms/step - loss: 25.5059 - accuracy: 0.5990\n",
      "Epoch 2/10\n",
      "7/7 [==============================] - 2s 267ms/step - loss: 3.9647 - accuracy: 0.7921\n",
      "Epoch 3/10\n",
      "7/7 [==============================] - 2s 268ms/step - loss: 1.4374 - accuracy: 0.8020\n",
      "Epoch 4/10\n",
      "7/7 [==============================] - 2s 267ms/step - loss: 0.8165 - accuracy: 0.8168\n",
      "Epoch 5/10\n",
      "7/7 [==============================] - 2s 267ms/step - loss: 0.3257 - accuracy: 0.8911\n",
      "Epoch 6/10\n",
      "7/7 [==============================] - 2s 268ms/step - loss: 0.1908 - accuracy: 0.9158\n",
      "Epoch 7/10\n",
      "7/7 [==============================] - 2s 282ms/step - loss: 0.1226 - accuracy: 0.9356\n",
      "Epoch 8/10\n",
      "7/7 [==============================] - 2s 268ms/step - loss: 0.1429 - accuracy: 0.9257\n",
      "Epoch 9/10\n",
      "7/7 [==============================] - 2s 267ms/step - loss: 0.1068 - accuracy: 0.9554\n",
      "Epoch 10/10\n",
      "7/7 [==============================] - 2s 288ms/step - loss: 0.0887 - accuracy: 0.9802\n",
      "2/2 [==============================] - 1s 241ms/step - loss: 0.4753 - accuracy: 0.8627\n",
      "Test Loss: 0.47532010078430176\n",
      "Test Accuracy: 0.8627451062202454\n"
     ]
    }
   ],
   "source": [
    "history = model.fit(X_train, y_train, epochs=10)\n",
    "loss, acc = model.evaluate(X_test, y_test)\n",
    "print(\"Test Loss:\", loss)\n",
    "print(\"Test Accuracy:\", acc)"
   ]
  },
  {
   "cell_type": "code",
   "execution_count": 10,
   "id": "68c2ed1a",
   "metadata": {},
   "outputs": [
    {
     "data": {
      "image/png": "[encoded data removed]",
      "text/plain": [
       "<Figure size 288x288 with 1 Axes>"
      ]
     },
     "metadata": {
      "needs_background": "light"
     },
     "output_type": "display_data"
    },
    {
     "name": "stdout",
     "output_type": "stream",
     "text": [
      "              precision    recall  f1-score   support\n",
      "\n",
      "           0       0.74      0.94      0.83        18\n",
      "           1       0.96      0.82      0.89        33\n",
      "\n",
      "    accuracy                           0.86        51\n",
      "   macro avg       0.85      0.88      0.86        51\n",
      "weighted avg       0.88      0.86      0.87        51\n",
      "\n"
     ]
    }
   ],
   "source": [
    "# show confusion matrix\n",
    "y_pred=np.argmax(model.predict(X_test), axis=-1)\n",
    "plot_confusion_matrix(y_test, y_pred)\n",
    "\n",
    "# show other metrics\n",
    "print(classification_report(y_pred,y_test))"
   ]
  }
 ],
 "metadata": {
  "kernelspec": {
   "display_name": "Python 3 (ipykernel)",
   "language": "python",
   "name": "python3"
  },
  "language_info": {
   "codemirror_mode": {
    "name": "ipython",
    "version": 3
   },
   "file_extension": ".py",
   "mimetype": "text/x-python",
   "name": "python",
   "nbconvert_exporter": "python",
   "pygments_lexer": "ipython3",
   "version": "3.8.10"
  }
 },
 "nbformat": 4,
 "nbformat_minor": 5
}
