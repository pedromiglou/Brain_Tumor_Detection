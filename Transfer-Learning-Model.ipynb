{
 "cells": [
  {
   "cell_type": "markdown",
   "id": "fa03c4d1",
   "metadata": {},
   "source": [
    "### Imports"
   ]
  },
  {
   "cell_type": "code",
   "execution_count": 1,
   "id": "dd736b59",
   "metadata": {},
   "outputs": [],
   "source": [
    "from utils import *\n",
    "import cv2\n",
    "import numpy as np\n",
    "from tensorflow.keras.applications import VGG16\n",
    "from tensorflow.keras import models, layers, optimizers, losses\n",
    "from sklearn.model_selection import KFold\n",
    "from sklearn.metrics import classification_report"
   ]
  },
  {
   "cell_type": "markdown",
   "id": "27ecb4ae",
   "metadata": {},
   "source": [
    "### Read/Preprocess Data"
   ]
  },
  {
   "cell_type": "code",
   "execution_count": 2,
   "id": "18cef97a",
   "metadata": {
    "scrolled": true
   },
   "outputs": [],
   "source": [
    "IMG_SIZE=224\n",
    "X, y = read_images()\n",
    "X = resize_and_rescale(X, IMG_SIZE=IMG_SIZE, rescale=False)\n",
    "X_train, y_train, X_test, y_test = split_and_shuffle(X, y)\n",
    "\n",
    "# convert to rgb images\n",
    "X_train = np.array([[[[x,x,x]  for x in x2] for x2 in x1] for x1 in X_train])\n",
    "X_test = np.array([[[[x,x,x]  for x in x2] for x2 in x1] for x1 in X_test])"
   ]
  },
  {
   "cell_type": "markdown",
   "id": "f662f002",
   "metadata": {},
   "source": [
    "### Model"
   ]
  },
  {
   "cell_type": "code",
   "execution_count": 3,
   "id": "b3bfdba9",
   "metadata": {},
   "outputs": [],
   "source": [
    "def vgg16_model():\n",
    "    vgg16 = VGG16(include_top=False, weights=\"imagenet\", input_shape = (IMG_SIZE,IMG_SIZE, 3))\n",
    "\n",
    "    # prevent training of VGG16\n",
    "    vgg16.trainable = False\n",
    "\n",
    "    model = models.Sequential()\n",
    "    model.add(vgg16)\n",
    "    model.add(layers.GlobalAveragePooling2D())\n",
    "    model.add(layers.Dropout(0.2))\n",
    "    model.add(layers.Dense(4096, activation=\"relu\"))\n",
    "    model.add(layers.Dense(4096, activation=\"relu\"))\n",
    "    model.add(layers.Dense(2, activation=\"sigmoid\"))\n",
    "    model.compile(optimizer=optimizers.Adam(learning_rate=0.001),\n",
    "                  loss=losses.SparseCategoricalCrossentropy(from_logits=False),\n",
    "                  metrics=['accuracy'])\n",
    "    return model"
   ]
  },
  {
   "cell_type": "code",
   "execution_count": 4,
   "id": "59664cb3",
   "metadata": {},
   "outputs": [
    {
     "name": "stderr",
     "output_type": "stream",
     "text": [
      "2022-04-30 20:42:06.290746: I tensorflow/stream_executor/cuda/cuda_gpu_executor.cc:936] successful NUMA node read from SysFS had negative value (-1), but there must be at least one NUMA node, so returning NUMA node zero\n",
      "2022-04-30 20:42:06.335395: I tensorflow/stream_executor/cuda/cuda_gpu_executor.cc:936] successful NUMA node read from SysFS had negative value (-1), but there must be at least one NUMA node, so returning NUMA node zero\n",
      "2022-04-30 20:42:06.335602: I tensorflow/stream_executor/cuda/cuda_gpu_executor.cc:936] successful NUMA node read from SysFS had negative value (-1), but there must be at least one NUMA node, so returning NUMA node zero\n",
      "2022-04-30 20:42:06.336620: I tensorflow/core/platform/cpu_feature_guard.cc:151] This TensorFlow binary is optimized with oneAPI Deep Neural Network Library (oneDNN) to use the following CPU instructions in performance-critical operations:  AVX2 FMA\n",
      "To enable them in other operations, rebuild TensorFlow with the appropriate compiler flags.\n",
      "2022-04-30 20:42:06.337198: I tensorflow/stream_executor/cuda/cuda_gpu_executor.cc:936] successful NUMA node read from SysFS had negative value (-1), but there must be at least one NUMA node, so returning NUMA node zero\n",
      "2022-04-30 20:42:06.337391: I tensorflow/stream_executor/cuda/cuda_gpu_executor.cc:936] successful NUMA node read from SysFS had negative value (-1), but there must be at least one NUMA node, so returning NUMA node zero\n",
      "2022-04-30 20:42:06.337545: I tensorflow/stream_executor/cuda/cuda_gpu_executor.cc:936] successful NUMA node read from SysFS had negative value (-1), but there must be at least one NUMA node, so returning NUMA node zero\n",
      "2022-04-30 20:42:06.806026: I tensorflow/stream_executor/cuda/cuda_gpu_executor.cc:936] successful NUMA node read from SysFS had negative value (-1), but there must be at least one NUMA node, so returning NUMA node zero\n",
      "2022-04-30 20:42:06.806244: I tensorflow/stream_executor/cuda/cuda_gpu_executor.cc:936] successful NUMA node read from SysFS had negative value (-1), but there must be at least one NUMA node, so returning NUMA node zero\n",
      "2022-04-30 20:42:06.806410: I tensorflow/stream_executor/cuda/cuda_gpu_executor.cc:936] successful NUMA node read from SysFS had negative value (-1), but there must be at least one NUMA node, so returning NUMA node zero\n",
      "2022-04-30 20:42:06.806545: I tensorflow/core/common_runtime/gpu/gpu_device.cc:1525] Created device /job:localhost/replica:0/task:0/device:GPU:0 with 2929 MB memory:  -> device: 0, name: NVIDIA GeForce GTX 960M, pci bus id: 0000:01:00.0, compute capability: 5.0\n"
     ]
    },
    {
     "name": "stdout",
     "output_type": "stream",
     "text": [
      "Model: \"sequential\"\n",
      "_________________________________________________________________\n",
      " Layer (type)                Output Shape              Param #   \n",
      "=================================================================\n",
      " vgg16 (Functional)          (None, 7, 7, 512)         14714688  \n",
      "                                                                 \n",
      " global_average_pooling2d (G  (None, 512)              0         \n",
      " lobalAveragePooling2D)                                          \n",
      "                                                                 \n",
      " dropout (Dropout)           (None, 512)               0         \n",
      "                                                                 \n",
      " dense (Dense)               (None, 4096)              2101248   \n",
      "                                                                 \n",
      " dense_1 (Dense)             (None, 4096)              16781312  \n",
      "                                                                 \n",
      " dense_2 (Dense)             (None, 2)                 8194      \n",
      "                                                                 \n",
      "=================================================================\n",
      "Total params: 33,605,442\n",
      "Trainable params: 18,890,754\n",
      "Non-trainable params: 14,714,688\n",
      "_________________________________________________________________\n"
     ]
    }
   ],
   "source": [
    "model = vgg16_model()\n",
    "model.summary()"
   ]
  },
  {
   "cell_type": "markdown",
   "id": "a43dda25",
   "metadata": {},
   "source": [
    "### Cross Validation and Testing"
   ]
  },
  {
   "cell_type": "code",
   "execution_count": 5,
   "id": "8c89b91a",
   "metadata": {},
   "outputs": [],
   "source": [
    "def cross_validation(X, y, epochs=10):\n",
    "    results = []\n",
    "    \n",
    "    # split into 4 folds and fit 4 times\n",
    "    kf = KFold(n_splits=4)\n",
    "    for train_index, test_index in kf.split(X):\n",
    "        model = vgg16_model()\n",
    "        res = model.fit(X[train_index],y[train_index],validation_data=(X[test_index],y[test_index]),\n",
    "                        epochs=epochs, batch_size=32)\n",
    "        results.append(res)\n",
    "    \n",
    "    # obtain average results throughout the epochs\n",
    "    history = dict()\n",
    "    history[\"accuracy\"] = []\n",
    "    history[\"val_accuracy\"] = []\n",
    "    history[\"loss\"] = []\n",
    "    history[\"val_loss\"] = []\n",
    "    \n",
    "    for i in range(epochs):\n",
    "        history[\"accuracy\"].append(sum([res.history['accuracy'][i] for res in results])/len(results))\n",
    "        history[\"val_accuracy\"].append(sum([res.history['val_accuracy'][i] for res in results])/len(results))\n",
    "        history[\"loss\"].append(sum([res.history['loss'][i] for res in results])/len(results))\n",
    "        history[\"val_loss\"].append(sum([res.history['val_loss'][i] for res in results])/len(results))\n",
    "\n",
    "    return history"
   ]
  },
  {
   "cell_type": "code",
   "execution_count": null,
   "id": "9de593b7",
   "metadata": {},
   "outputs": [],
   "source": [
    "history = cross_validation(X_train, y_train)"
   ]
  },
  {
   "cell_type": "code",
   "execution_count": null,
   "id": "9e1a16af",
   "metadata": {},
   "outputs": [],
   "source": [
    "plot_accuracy_comparison(history[\"accuracy\"], history[\"val_accuracy\"])"
   ]
  },
  {
   "cell_type": "code",
   "execution_count": null,
   "id": "8ea19f04",
   "metadata": {},
   "outputs": [],
   "source": [
    "plot_loss_comparison(history[\"loss\"], history[\"val_loss\"])"
   ]
  },
  {
   "cell_type": "code",
   "execution_count": null,
   "id": "14993e97",
   "metadata": {},
   "outputs": [],
   "source": [
    "history = model.fit(X_train, y_train, epochs=10, batch_size=32)\n",
    "loss, acc = model.evaluate(X_test, y_test)\n",
    "print(\"Test Loss:\", loss)\n",
    "print(\"Test Accuracy:\", acc)"
   ]
  },
  {
   "cell_type": "code",
   "execution_count": null,
   "id": "68c2ed1a",
   "metadata": {},
   "outputs": [],
   "source": [
    "# show confusion matrix\n",
    "y_pred=np.argmax(model.predict(X_test), axis=-1)\n",
    "plot_confusion_matrix(y_test, y_pred)\n",
    "\n",
    "# show other metrics\n",
    "print(classification_report(y_pred,y_test))"
   ]
  }
 ],
 "metadata": {
  "kernelspec": {
   "display_name": "Python 3 (ipykernel)",
   "language": "python",
   "name": "python3"
  },
  "language_info": {
   "codemirror_mode": {
    "name": "ipython",
    "version": 3
   },
   "file_extension": ".py",
   "mimetype": "text/x-python",
   "name": "python",
   "nbconvert_exporter": "python",
   "pygments_lexer": "ipython3",
   "version": "3.8.10"
  }
 },
 "nbformat": 4,
 "nbformat_minor": 5
}
