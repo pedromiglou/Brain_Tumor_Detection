{
 "cells": [
  {
   "cell_type": "markdown",
   "id": "fa03c4d1",
   "metadata": {},
   "source": [
    "### Imports"
   ]
  },
  {
   "cell_type": "code",
   "execution_count": null,
   "id": "dd736b59",
   "metadata": {},
   "outputs": [],
   "source": [
    "from utils import *\n",
    "import cv2\n",
    "import numpy as np\n",
    "import tensorflow as tf\n",
    "from tensorflow.keras.applications import VGG16\n",
    "from tensorflow.keras import models, layers, optimizers, losses\n",
    "from sklearn.metrics import classification_report"
   ]
  },
  {
   "cell_type": "markdown",
   "id": "27ecb4ae",
   "metadata": {},
   "source": [
    "### Read/Preprocess Data"
   ]
  },
  {
   "cell_type": "code",
   "execution_count": null,
   "id": "18cef97a",
   "metadata": {
    "scrolled": true
   },
   "outputs": [],
   "source": [
    "IMG_SIZE=224\n",
    "X, y = read_images()\n",
    "X = resize_and_rescale(X, IMG_SIZE=IMG_SIZE, rescale=False)\n",
    "X_train, y_train, X_val, y_val, X_test, y_test = split_and_shuffle(X, y)\n",
    "\n",
    "# convert to rgb images\n",
    "X_train = np.array([[[[x,x,x]  for x in x2] for x2 in x1] for x1 in X_train])\n",
    "X_val = np.array([[[[x,x,x]  for x in x2] for x2 in x1] for x1 in X_val])\n",
    "X_test = np.array([[[[x,x,x]  for x in x2] for x2 in x1] for x1 in X_test])"
   ]
  },
  {
   "cell_type": "markdown",
   "id": "f662f002",
   "metadata": {},
   "source": [
    "### Model"
   ]
  },
  {
   "cell_type": "code",
   "execution_count": null,
   "id": "b3bfdba9",
   "metadata": {},
   "outputs": [],
   "source": [
    "def vgg16_model(learning_rate=0.0001):\n",
    "    vgg16 = VGG16(include_top=False, weights=\"imagenet\", input_shape = (IMG_SIZE,IMG_SIZE, 3))\n",
    "\n",
    "    # prevent training of VGG16\n",
    "    vgg16.trainable = False\n",
    "\n",
    "    model = models.Sequential()\n",
    "    model.add(vgg16)\n",
    "    model.add(layers.GlobalAveragePooling2D())\n",
    "    model.add(layers.Dropout(0.2))\n",
    "    model.add(layers.Dense(4096, activation=\"relu\"))\n",
    "    model.add(layers.Dense(4096, activation=\"relu\"))\n",
    "    model.add(layers.Dense(2, activation=\"sigmoid\"))\n",
    "    model.compile(optimizer=optimizers.Adam(learning_rate=learning_rate),\n",
    "                  loss=losses.SparseCategoricalCrossentropy(from_logits=False),\n",
    "                  metrics=['accuracy'])\n",
    "    return model"
   ]
  },
  {
   "cell_type": "code",
   "execution_count": null,
   "id": "1efd1522",
   "metadata": {},
   "outputs": [],
   "source": [
    "model = vgg16_model()\n",
    "model.summary()"
   ]
  },
  {
   "cell_type": "markdown",
   "id": "a43dda25",
   "metadata": {},
   "source": [
    "### Validation and Testing"
   ]
  },
  {
   "cell_type": "code",
   "execution_count": null,
   "id": "8c89b91a",
   "metadata": {},
   "outputs": [],
   "source": [
    "epochs = 15\n",
    "\n",
    "results = model.fit(X_train, y_train, validation_data=(X_val,y_val), epochs=epochs)"
   ]
  },
  {
   "cell_type": "code",
   "execution_count": null,
   "id": "9e1a16af",
   "metadata": {},
   "outputs": [],
   "source": [
    "plot_accuracy_comparison([results.history[\"accuracy\"], results.history[\"val_accuracy\"]],\n",
    "                        \"Training/Validation Accuracy Comparison\",\n",
    "                        [\"Training Accuracy\", \"Validation Accuracy\"])"
   ]
  },
  {
   "cell_type": "code",
   "execution_count": null,
   "id": "8ea19f04",
   "metadata": {},
   "outputs": [],
   "source": [
    "plot_loss_comparison([results.history[\"loss\"], results.history[\"val_loss\"]],\n",
    "                     \"Training/Validation Loss Comparison\",\n",
    "                     [\"Training Loss\", \"Validation Loss\"])"
   ]
  },
  {
   "cell_type": "code",
   "execution_count": null,
   "id": "68c2ed1a",
   "metadata": {},
   "outputs": [],
   "source": [
    "model = vgg16_model()\n",
    "results = model.fit(np.concatenate((X_train,X_val)), np.concatenate((y_train,y_val)), epochs=epochs)\n",
    "loss, acc = model.evaluate(X_test, y_test)\n",
    "print(\"Test Loss:\", loss)\n",
    "print(\"Test Accuracy:\", acc)\n",
    "\n",
    "# show confusion matrix\n",
    "y_pred=np.argmax(model.predict(X_test), axis=-1)\n",
    "plot_confusion_matrix(y_test, y_pred)\n",
    "\n",
    "# show other metrics\n",
    "print(classification_report(y_pred,y_test))"
   ]
  },
  {
   "cell_type": "markdown",
   "id": "639187d3",
   "metadata": {},
   "source": [
    "### Hyper-Parameter Selection"
   ]
  },
  {
   "cell_type": "markdown",
   "id": "2150e6ad",
   "metadata": {},
   "source": [
    "#### Epochs"
   ]
  },
  {
   "cell_type": "code",
   "execution_count": null,
   "id": "5b44cfc1",
   "metadata": {},
   "outputs": [],
   "source": [
    "model = vgg16_model()\n",
    "results = model.fit(X_train, y_train, validation_data=(X_val,y_val), epochs=30)"
   ]
  },
  {
   "cell_type": "code",
   "execution_count": null,
   "id": "75906d16",
   "metadata": {},
   "outputs": [],
   "source": [
    "plot_accuracy_comparison([results.history[\"accuracy\"], results.history[\"val_accuracy\"]],\n",
    "                        \"Training/Validation Accuracy Comparison\",\n",
    "                        [\"Training Accuracy\", \"Validation Accuracy\"])"
   ]
  },
  {
   "cell_type": "code",
   "execution_count": null,
   "id": "1c77a864",
   "metadata": {},
   "outputs": [],
   "source": [
    "plot_loss_comparison([results.history[\"loss\"], results.history[\"val_loss\"]],\n",
    "                     \"Training/Validation Loss Comparison\",\n",
    "                     [\"Training Loss\", \"Validation Loss\"])"
   ]
  },
  {
   "cell_type": "markdown",
   "id": "e5e7614d",
   "metadata": {},
   "source": [
    "#### Learning Rate"
   ]
  },
  {
   "cell_type": "code",
   "execution_count": null,
   "id": "e1a0147f",
   "metadata": {},
   "outputs": [],
   "source": [
    "#https://machinelearningmastery.com/learning-rate-for-deep-learning-neural-networks/\n",
    "learning_rates=[0.1, 0.01, 0.001, 0.0001, 0.00001]\n",
    "acc = []\n",
    "loss = []\n",
    "\n",
    "for lr in learning_rates:\n",
    "    model = vgg16_model(learning_rate=lr)\n",
    "    results = model.fit(X_train, y_train, validation_data=(X_val,y_val), epochs=epochs)\n",
    "\n",
    "    acc.append(results.history[\"val_accuracy\"])\n",
    "    loss.append(results.history[\"val_loss\"])"
   ]
  },
  {
   "cell_type": "code",
   "execution_count": null,
   "id": "9d1a5976",
   "metadata": {},
   "outputs": [],
   "source": [
    "plot_accuracy_comparison(acc, \"Learning Rate Comparison (Validation Accuracy)\", learning_rates)"
   ]
  },
  {
   "cell_type": "code",
   "execution_count": null,
   "id": "aadb45a4",
   "metadata": {},
   "outputs": [],
   "source": [
    "plot_loss_comparison(loss, \"Learning Rate Comparison (Validation Loss)\", learning_rates)"
   ]
  }
 ],
 "metadata": {
  "kernelspec": {
   "display_name": "Python 3 (ipykernel)",
   "language": "python",
   "name": "python3"
  },
  "language_info": {
   "codemirror_mode": {
    "name": "ipython",
    "version": 3
   },
   "file_extension": ".py",
   "mimetype": "text/x-python",
   "name": "python",
   "nbconvert_exporter": "python",
   "pygments_lexer": "ipython3",
   "version": "3.9.7"
  }
 },
 "nbformat": 4,
 "nbformat_minor": 5
}
